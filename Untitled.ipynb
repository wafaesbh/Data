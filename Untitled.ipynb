{
 "cells": [
  {
   "cell_type": "code",
   "execution_count": 1,
   "id": "80c62ac5",
   "metadata": {},
   "outputs": [
    {
     "name": "stdout",
     "output_type": "stream",
     "text": [
      "Collecting kedro\n",
      "  Downloading kedro-0.17.5-py3-none-any.whl (18.4 MB)\n",
      "Collecting anyconfig~=0.10.0\n",
      "  Downloading anyconfig-0.10.1-py2.py3-none-any.whl (64 kB)\n",
      "Requirement already satisfied: jupyter-client<7.0,>=5.1 in c:\\users\\wafae\\anaconda3\\lib\\site-packages (from kedro) (6.1.12)\n",
      "Collecting rope~=0.19.0\n",
      "  Downloading rope-0.19.0.tar.gz (252 kB)\n",
      "Requirement already satisfied: pluggy~=0.13.0 in c:\\users\\wafae\\anaconda3\\lib\\site-packages (from kedro) (0.13.1)\n",
      "Requirement already satisfied: toml~=0.10 in c:\\users\\wafae\\anaconda3\\lib\\site-packages (from kedro) (0.10.2)\n",
      "Collecting fsspec<2022.01,>=2021.04\n",
      "  Downloading fsspec-2021.10.0-py3-none-any.whl (125 kB)\n",
      "Requirement already satisfied: click<8.0 in c:\\users\\wafae\\anaconda3\\lib\\site-packages (from kedro) (7.1.2)\n",
      "Collecting pip-tools~=5.0\n",
      "  Downloading pip_tools-5.5.0-py2.py3-none-any.whl (45 kB)\n",
      "Collecting toposort~=1.5\n",
      "  Downloading toposort-1.7-py2.py3-none-any.whl (9.0 kB)\n",
      "Collecting cachetools~=4.1\n",
      "  Downloading cachetools-4.2.4-py3-none-any.whl (10 kB)\n",
      "Requirement already satisfied: gitpython~=3.0 in c:\\users\\wafae\\anaconda3\\lib\\site-packages (from kedro) (3.1.14)\n",
      "Requirement already satisfied: setuptools>=38.0 in c:\\users\\wafae\\anaconda3\\lib\\site-packages (from kedro) (57.0.0)\n",
      "Collecting jmespath<1.0,>=0.9.5\n",
      "  Downloading jmespath-0.10.0-py2.py3-none-any.whl (24 kB)\n",
      "Collecting cookiecutter~=1.7.0\n",
      "  Downloading cookiecutter-1.7.3-py2.py3-none-any.whl (34 kB)\n",
      "Collecting dynaconf<3.1.6\n",
      "  Downloading dynaconf-3.1.5-py2.py3-none-any.whl (198 kB)\n",
      "Collecting python-json-logger~=2.0\n",
      "  Downloading python_json_logger-2.0.2-py3-none-any.whl (7.4 kB)\n",
      "Requirement already satisfied: PyYAML<6.0,>=4.2 in c:\\users\\wafae\\anaconda3\\lib\\site-packages (from kedro) (5.4.1)\n",
      "Collecting binaryornot>=0.4.4\n",
      "  Downloading binaryornot-0.4.4-py2.py3-none-any.whl (9.0 kB)\n",
      "Requirement already satisfied: six>=1.10 in c:\\users\\wafae\\anaconda3\\lib\\site-packages (from cookiecutter~=1.7.0->kedro) (1.15.0)\n",
      "Requirement already satisfied: requests>=2.23.0 in c:\\users\\wafae\\anaconda3\\lib\\site-packages (from cookiecutter~=1.7.0->kedro) (2.25.1)\n",
      "Collecting python-slugify>=4.0.0\n",
      "  Downloading python_slugify-5.0.2-py2.py3-none-any.whl (6.7 kB)\n",
      "Collecting poyo>=0.5.0\n",
      "  Downloading poyo-0.5.0-py2.py3-none-any.whl (10 kB)\n",
      "Collecting jinja2-time>=0.2.0\n",
      "  Downloading jinja2_time-0.2.0-py2.py3-none-any.whl (6.4 kB)\n",
      "Requirement already satisfied: Jinja2<4.0.0,>=2.7 in c:\\users\\wafae\\anaconda3\\lib\\site-packages (from cookiecutter~=1.7.0->kedro) (2.11.3)\n",
      "Requirement already satisfied: chardet>=3.0.2 in c:\\users\\wafae\\anaconda3\\lib\\site-packages (from binaryornot>=0.4.4->cookiecutter~=1.7.0->kedro) (4.0.0)\n",
      "Requirement already satisfied: gitdb<5,>=4.0.1 in c:\\users\\wafae\\anaconda3\\lib\\site-packages (from gitpython~=3.0->kedro) (4.0.7)\n",
      "Requirement already satisfied: smmap<5,>=3.0.1 in c:\\users\\wafae\\anaconda3\\lib\\site-packages (from gitdb<5,>=4.0.1->gitpython~=3.0->kedro) (4.0.0)\n",
      "Requirement already satisfied: MarkupSafe>=0.23 in c:\\users\\wafae\\anaconda3\\lib\\site-packages (from Jinja2<4.0.0,>=2.7->cookiecutter~=1.7.0->kedro) (1.1.1)\n",
      "Collecting arrow\n",
      "  Downloading arrow-1.2.0-py3-none-any.whl (62 kB)\n",
      "Requirement already satisfied: traitlets in c:\\users\\wafae\\anaconda3\\lib\\site-packages (from jupyter-client<7.0,>=5.1->kedro) (5.0.5)\n",
      "Requirement already satisfied: pyzmq>=13 in c:\\users\\wafae\\anaconda3\\lib\\site-packages (from jupyter-client<7.0,>=5.1->kedro) (20.0.0)\n",
      "Requirement already satisfied: jupyter-core>=4.6.0 in c:\\users\\wafae\\anaconda3\\lib\\site-packages (from jupyter-client<7.0,>=5.1->kedro) (4.7.1)\n",
      "Requirement already satisfied: python-dateutil>=2.1 in c:\\users\\wafae\\anaconda3\\lib\\site-packages (from jupyter-client<7.0,>=5.1->kedro) (2.8.1)\n",
      "Requirement already satisfied: tornado>=4.1 in c:\\users\\wafae\\anaconda3\\lib\\site-packages (from jupyter-client<7.0,>=5.1->kedro) (6.1)\n",
      "Requirement already satisfied: pywin32>=1.0 in c:\\users\\wafae\\anaconda3\\lib\\site-packages (from jupyter-core>=4.6.0->jupyter-client<7.0,>=5.1->kedro) (227)\n",
      "Requirement already satisfied: pip>=20.1 in c:\\users\\wafae\\anaconda3\\lib\\site-packages (from pip-tools~=5.0->kedro) (21.2.4)\n",
      "Collecting text-unidecode>=1.3\n",
      "  Downloading text_unidecode-1.3-py2.py3-none-any.whl (78 kB)\n",
      "Requirement already satisfied: idna<3,>=2.5 in c:\\users\\wafae\\anaconda3\\lib\\site-packages (from requests>=2.23.0->cookiecutter~=1.7.0->kedro) (2.10)\n",
      "Requirement already satisfied: urllib3<1.27,>=1.21.1 in c:\\users\\wafae\\anaconda3\\lib\\site-packages (from requests>=2.23.0->cookiecutter~=1.7.0->kedro) (1.25.11)\n",
      "Requirement already satisfied: certifi>=2017.4.17 in c:\\users\\wafae\\anaconda3\\lib\\site-packages (from requests>=2.23.0->cookiecutter~=1.7.0->kedro) (2020.12.5)\n",
      "Requirement already satisfied: ipython-genutils in c:\\users\\wafae\\anaconda3\\lib\\site-packages (from traitlets->jupyter-client<7.0,>=5.1->kedro) (0.2.0)\n",
      "Building wheels for collected packages: rope\n",
      "  Building wheel for rope (setup.py): started\n",
      "  Building wheel for rope (setup.py): finished with status 'done'\n",
      "  Created wheel for rope: filename=rope-0.19.0-py3-none-any.whl size=182061 sha256=72968c1cd0c1c805ad0877f141f1e0c8bbee52cd9ce9f3f0b4f03a15ea49c8e0\n",
      "  Stored in directory: c:\\users\\wafae\\appdata\\local\\pip\\cache\\wheels\\2f\\68\\4f\\a11f8495f61454a27d2b174d7f40fae7593ad8faa744ae0f62\n",
      "Successfully built rope\n",
      "Installing collected packages: text-unidecode, arrow, python-slugify, poyo, jinja2-time, binaryornot, toposort, rope, python-json-logger, pip-tools, jmespath, fsspec, dynaconf, cookiecutter, cachetools, anyconfig, kedro\n",
      "  Attempting uninstall: rope\n",
      "    Found existing installation: rope 0.18.0\n",
      "    Uninstalling rope-0.18.0:\n",
      "      Successfully uninstalled rope-0.18.0\n",
      "  Attempting uninstall: fsspec\n",
      "    Found existing installation: fsspec 0.9.0\n",
      "    Uninstalling fsspec-0.9.0:\n",
      "      Successfully uninstalled fsspec-0.9.0\n",
      "Successfully installed anyconfig-0.10.1 arrow-1.2.0 binaryornot-0.4.4 cachetools-4.2.4 cookiecutter-1.7.3 dynaconf-3.1.5 fsspec-2021.10.0 jinja2-time-0.2.0 jmespath-0.10.0 kedro-0.17.5 pip-tools-5.5.0 poyo-0.5.0 python-json-logger-2.0.2 python-slugify-5.0.2 rope-0.19.0 text-unidecode-1.3 toposort-1.7\n",
      "Note: you may need to restart the kernel to use updated packages.\n"
     ]
    }
   ],
   "source": [
    "pip install kedro"
   ]
  }
 ],
 "metadata": {
  "kernelspec": {
   "display_name": "Python 3",
   "language": "python",
   "name": "python3"
  },
  "language_info": {
   "codemirror_mode": {
    "name": "ipython",
    "version": 3
   },
   "file_extension": ".py",
   "mimetype": "text/x-python",
   "name": "python",
   "nbconvert_exporter": "python",
   "pygments_lexer": "ipython3",
   "version": "3.8.8"
  }
 },
 "nbformat": 4,
 "nbformat_minor": 5
}
